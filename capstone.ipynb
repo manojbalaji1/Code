{
 "cells": [
  {
   "cell_type": "code",
   "execution_count": 1,
   "id": "3a847c9e-3b1a-40ff-acac-6304650742fc",
   "metadata": {},
   "outputs": [],
   "source": [
    "import vectorbt as vbt\n",
    "from vectorbt.signals.factory import SignalFactory\n",
    "import numpy as np\n",
    "from numba import njit\n",
    "import pandas as pd\n",
    "from concurrent.futures import ProcessPoolExecutor, ThreadPoolExecutor\n",
    "from abc import abstractmethod, ABCMeta\n",
    "import time\n",
    "from pathlib import Path\n",
    "from itertools import product, combinations, permutations \n",
    "from typing import List, Optional, Union\n",
    "import time\n",
    "import yfinance as yf"
   ]
  },
  {
   "cell_type": "markdown",
   "id": "69390b73-86ce-4561-9029-44912c54ce54",
   "metadata": {},
   "source": [
    "## Top 30 Stocks in India"
   ]
  },
  {
   "cell_type": "code",
   "execution_count": 2,
   "id": "fed64442-7580-4902-99c3-0edd14fbdcb0",
   "metadata": {},
   "outputs": [],
   "source": [
    "tickers = [\n",
    "    \"NTPC.NS\",\"HINDALCO.NS\",\"BHARTIARTL.NS\",\n",
    "    \"SHREECEM.NS\",\"TCS.NS\",\"HDFCLIFE.NS\",\n",
    "    \"CIPLA.NS\",\"LT.NS\",\"ULTRACEMCO.NS\",\n",
    "    \"WIPRO.NS\",\"KOTAKBANK.NS\",\"BAJFINANCE.NS\",\n",
    "    \"TATACONSUM.NS\",\"BAJAJFINSV.NS\",\"MARUTI.NS\",\n",
    "    \"TITAN.NS\",\"ICICIBANK.NS\",\"ONGC.NS\",\"ITC.NS\",\n",
    "    \"APOLLOHOSP.NS\",\"BRITANNIA.NS\",\"BAJAJ-AUTO.NS\",\n",
    "    \"TECHM.NS\",\"COALINDIA.NS\",\"TATASTEEL.NS\",\"HEROMOTOCO.NS\",\n",
    "    \"INDUSINDBK.NS\",\"NESTLEIND.NS\",\"M&M.NS\",\"RELIANCE.NS\"\n",
    "]"
   ]
  },
  {
   "cell_type": "markdown",
   "id": "aa41979b-6610-452a-9bf4-56d8232b1c70",
   "metadata": {},
   "source": [
    "### Utilities"
   ]
  },
  {
   "cell_type": "code",
   "execution_count": 3,
   "id": "c84c9b9f-dc5e-440a-9db0-d3b3ea49d1df",
   "metadata": {},
   "outputs": [],
   "source": [
    "DATA_PATH = Path(\"./data\").resolve()\n",
    "\n",
    "def download_data(\n",
    "    ticker: str,\n",
    "    period: Optional[str] = \"max\",\n",
    "    interval: Optional[str] = \"1d\",\n",
    "    auto_adjust: Optional[bool] = True,\n",
    "    path: Union[str, Path] = DATA_PATH,\n",
    "):\n",
    "    \"\"\"\n",
    "    downloads data from yahoo and converts it to parquet.\n",
    "    to be run using a threadpool executor since it is IO bound.\n",
    "\n",
    "    i.e from concurrent.futures import ThreadPoolExecutor\n",
    "    with ThreadPoolExecutor as executor:\n",
    "        executor.map(download_data, [Tickers])\n",
    "\n",
    "    TODO:\n",
    "        stop it from saving parquet files of empty tickers\n",
    "\n",
    "    \"\"\"\n",
    "    try:\n",
    "        temp = yf.Ticker(ticker)\n",
    "        temp_history = temp.history(\n",
    "            period=period, interval=interval, auto_adjust=auto_adjust\n",
    "        )\n",
    "        temp_history.to_parquet(\n",
    "            path=f\"{path/ticker}.parquet\", engine=\"pyarrow\", index=True\n",
    "        )\n",
    "    except:\n",
    "        pass\n",
    "    else:\n",
    "        print(f\"{ticker} was successfully downloaded\")\n",
    "        time.sleep(2)\n",
    "\n",
    "\n",
    "def delete_empty_parquet(path):\n",
    "    for p in path.iterdir():\n",
    "        if (len(pd.read_parquet(p))) == 0:\n",
    "            print(f\"deleting {p}\")\n",
    "            p.unlink()\n",
    "\n",
    "\n",
    "def get_file_name(path: Path, output: list = []):\n",
    "    for file in path.iterdir():\n",
    "        output.append(file.stem)\n",
    "    return output\n",
    "\n",
    "def permute_data(data: pd.Series, seed: Optional[int] = 1730) -> pd.Series:\n",
    "    \"\"\"\n",
    "    shuffled a given data, N.B faster than the np.shuffle and\n",
    "    allows for using random state for replicability\n",
    "    \"\"\"\n",
    "    rng = np.random.default_rng(seed)\n",
    "    permuted_data = rng.permutation(data.values)  # faster than choice\n",
    "    return pd.Series(data=permuted_data, index=data.index)\n",
    "\n",
    "\n",
    "def random_like(\n",
    "    data: pd.Series,\n",
    "    seed: Optional[int] = 1730,\n",
    "    p: List[float] = [\n",
    "        0.5,\n",
    "    ],\n",
    "    binomial: Optional[bool] = True,\n",
    ") -> pd.Series:\n",
    "    \"\"\"\n",
    "    generates entries of the same size as the main entries according to given probabilities.\n",
    "    two options are given, Binomial or choice. Binomial is faster\n",
    "\n",
    "    \"\"\"\n",
    "    rng = np.random.default_rng(seed)\n",
    "    if binomial:\n",
    "        random_data = rng.binomial(n=1, p=0.5, size=data.size).astype(\"bool\")\n",
    "    else:\n",
    "        random_data = rng.choice([True, False], size=data.size, p=p)\n",
    "    return pd.Series(data=random_data, index=data.index)"
   ]
  },
  {
   "cell_type": "markdown",
   "id": "6a47084f-3756-4934-bbfb-9ab7b98b1448",
   "metadata": {},
   "source": [
    "## Download Data"
   ]
  },
  {
   "cell_type": "code",
   "execution_count": 4,
   "id": "0258f5f7-d8a8-4ebf-8b00-886ae29ff50c",
   "metadata": {},
   "outputs": [],
   "source": [
    "# with ThreadPoolExecutor() as executor:\n",
    "#     executor.map(download_data, tickers)"
   ]
  },
  {
   "cell_type": "code",
   "execution_count": 5,
   "id": "47bc11a4-1a87-407b-9531-3b16b6b17916",
   "metadata": {},
   "outputs": [],
   "source": [
    "START_DATE = pd.to_datetime(\"2009-10-01\")\n",
    "END_DATE = pd.to_datetime(\"2020-01-31\")"
   ]
  },
  {
   "cell_type": "markdown",
   "id": "46c19d67-9146-4948-a8f1-8c318cdc2327",
   "metadata": {},
   "source": [
    "## SETTINGS"
   ]
  },
  {
   "cell_type": "markdown",
   "id": "88a71337-ed22-44b4-8611-faffcf4b59b2",
   "metadata": {},
   "source": [
    "### Base strategy class"
   ]
  },
  {
   "cell_type": "code",
   "execution_count": 6,
   "id": "6f6fe155-d04a-4275-b762-1a376ead18db",
   "metadata": {},
   "outputs": [],
   "source": [
    "class Strategy(metaclass=ABCMeta):\n",
    "    @abstractmethod\n",
    "    def get_entries(self):\n",
    "        \"\"\"\n",
    "        returns entries signals\n",
    "        \"\"\"\n",
    "        pass\n",
    "\n",
    "    @abstractmethod\n",
    "    def get_exits(self):\n",
    "        \"\"\"\n",
    "        returns exit signals\n",
    "        \"\"\"\n",
    "        pass"
   ]
  },
  {
   "cell_type": "markdown",
   "id": "880e4080-b2af-4b67-ad23-781c50267bed",
   "metadata": {},
   "source": [
    "### Backtest"
   ]
  },
  {
   "cell_type": "code",
   "execution_count": 7,
   "id": "c4d816ff-2505-479f-897e-987ba478c06b",
   "metadata": {},
   "outputs": [],
   "source": [
    "class Backtest:\n",
    "    def __init__(\n",
    "        self,\n",
    "        ticker: str,\n",
    "        strategy: Strategy,\n",
    "        fees: float = 0.001,\n",
    "        size: float = np.inf,\n",
    "        freq: str = \"1D\",\n",
    "    ):\n",
    "        self.ticker = ticker\n",
    "        self.strategy = strategy\n",
    "        self.fees = fees\n",
    "        self.size = size\n",
    "        self.freq = freq\n",
    "\n",
    "    def __repr__(self):\n",
    "        return f\"<Bactest {str(self.strategy)}>\"\n",
    "\n",
    "    def _get_portfolio(self, entries, exits):\n",
    "        return vbt.Portfolio.from_signals(\n",
    "            close=self.strategy.data,\n",
    "            entries=entries,\n",
    "            exits=exits,\n",
    "            fees=self.fees,\n",
    "            size=self.size,\n",
    "            freq=self.freq,\n",
    "        )\n",
    "\n",
    "    def run(self, **kwargs):\n",
    "        entries = self.strategy.get_entries()\n",
    "        exits = self.strategy.get_exits()\n",
    "        \n",
    "        \n",
    "        \n",
    "\n",
    "        random_entries = entries.apply(random_like)\n",
    "        permuted_entries = entries.apply(permute_data)\n",
    "\n",
    "        portfolio = self._get_portfolio(entries, exits, **kwargs)\n",
    "        random_porfolio = self._get_portfolio(random_entries, exits, **kwargs)\n",
    "        permuted_portfolio = self._get_portfolio(permuted_entries, exits, **kwargs)\n",
    "\n",
    "        output = {\n",
    "            self.ticker: dict(\n",
    "                mean_expectancy=portfolio.trades.expectancy().mean(),\n",
    "                max_expectancy=portfolio.trades.expectancy().max(),\n",
    "                mean_random_expectancy=random_porfolio.trades.expectancy().mean(),\n",
    "                mean_permuted_expectancy=permuted_portfolio.trades.expectancy().mean(),\n",
    "            )\n",
    "        }\n",
    "        return output"
   ]
  },
  {
   "cell_type": "code",
   "execution_count": 8,
   "id": "06c1dba7-3ce3-4939-9c48-40377b1547a1",
   "metadata": {},
   "outputs": [],
   "source": [
    "class Backtest_V2:\n",
    "    def __init__(\n",
    "        self,\n",
    "        ticker: str,\n",
    "        strategy: Strategy,\n",
    "        fees: float = 0.001,\n",
    "        size: float = np.inf,\n",
    "        freq: str = \"1D\",\n",
    "    ):\n",
    "        self.ticker = ticker\n",
    "        self.strategy = strategy\n",
    "        self.fees = fees\n",
    "        self.size = size\n",
    "        self.freq = freq\n",
    "        self.data = self.strategy.data\n",
    "\n",
    "    def __repr__(self):\n",
    "        return f\"<Bactest {str(self.strategy)}>\"\n",
    "\n",
    "    def _get_portfolio(self, entries, exits, **kwargs):\n",
    "        return vbt.Portfolio.from_signals(\n",
    "            close=self.data,\n",
    "            entries=entries,\n",
    "            exits=exits,\n",
    "            fees=self.fees,\n",
    "            size=self.size,\n",
    "            freq=self.freq,\n",
    "            **kwargs\n",
    "        )\n",
    "\n",
    "    def run(self, **kwargs):\n",
    "        entries = self.strategy.get_entries()\n",
    "        exits = self.strategy.get_exits()\n",
    "        \n",
    "        random_entries = entries.apply(random_like)\n",
    "        permuted_entries = entries.apply(permute_data)\n",
    "        \n",
    "        time_based_signal= TimeBasedSignals.run(entries, [50, 100, 200]) # entry vs time_based\n",
    "        random_vs_time_based_signal = TimeBasedSignals.run(random_entries, [50, 100, 200]) # random_entry vs timebased \n",
    "        \n",
    "        step = 0.01  # in %\n",
    "        stops = np.arange(step, 1 + step, step)\n",
    "        entry_vs_trailing_sl = vbt.STCX.run(entries, self.data, \n",
    "                                            stop =  list(stops), trailing = True)\n",
    "        \n",
    "        random_vs_time_based_entries = random_vs_time_based_signal.new_entries\n",
    "        random_vs_time_based_exits = random_vs_time_based_signal.exits\n",
    "        \n",
    "        time_based_entries = time_based_signal.new_entries #This adapts entries to the exit signals\n",
    "        time_based_exits = time_based_signal.exits\n",
    "        \n",
    "        entry_vs_trailing_sl_entries =  entry_vs_trailing_sl.new_entries\n",
    "        entry_vs_trailing_sl_exits =  entry_vs_trailing_sl.exits\n",
    "        \n",
    "        portfolio = self._get_portfolio(entries,exits, **kwargs)\n",
    "        random_porfolio = self._get_portfolio(random_entries, exits, **kwargs)\n",
    "        permuted_portfolio = self._get_portfolio(permuted_entries, exits, **kwargs)\n",
    "        time_based_pf = self._get_portfolio(time_based_entries, time_based_exits, **kwargs)\n",
    "        random_vs_time_based_pf = self._get_portfolio(random_vs_time_based_entries,  random_vs_time_based_exits, **kwargs)\n",
    "        \n",
    "        time_based_pf  = time_based_pf.trades.expectancy().groupby(\"custom_num_days\").mean()\n",
    "        random_vs_time_based_pf  = random_vs_time_based_pf.trades.expectancy().groupby(\"custom_num_days\").mean()\n",
    "        entry_vs_trailing_sl_pf = vbt.Portfolio.from_signals(self.data, entry_vs_trailing_sl_entries,\n",
    "                                                             entry_vs_trailing_sl_exits)\n",
    "        \n",
    "        \n",
    "        output = {\n",
    "            self.ticker: dict(\n",
    "                entry_vs_exit_expectancy=portfolio.trades.expectancy().mean(),\n",
    "                max_entry_expectancy=portfolio.trades.expectancy().max(),\n",
    "                random_vs_exit_expectancy =random_porfolio.trades.expectancy().mean(),\n",
    "                mean_permuted_expectancy=permuted_portfolio.trades.expectancy().mean(),\n",
    "                entry_vs_50D_expectancy = time_based_pf.values[0],\n",
    "                entry_vs_100D_expectancy = time_based_pf.values[1],\n",
    "                entry_vs_200D_expectancy= time_based_pf.values[2],\n",
    "                random_vs_50D_expectancy = random_vs_time_based_pf.values[0],\n",
    "                random_vs_100D_expectancy = random_vs_time_based_pf.values[1],\n",
    "                random_vs_200D_expectancy = random_vs_time_based_pf.values[2],\n",
    "                entry_vs_trailing_sl_expectancy = entry_vs_trailing_sl_pf.trades.expectancy().mean()\n",
    "                \n",
    "\n",
    "            )\n",
    "        }\n",
    "        return output"
   ]
  },
  {
   "cell_type": "markdown",
   "id": "0d2206e6-5810-4f14-9d92-b60e0f9408ae",
   "metadata": {},
   "source": [
    "## Strategies"
   ]
  },
  {
   "cell_type": "markdown",
   "id": "9389f755-3a92-4b02-abff-691249dc450a",
   "metadata": {},
   "source": [
    "## SMA"
   ]
  },
  {
   "cell_type": "code",
   "execution_count": 9,
   "id": "0629e4f2-093e-476d-bc33-67e3b1c81a12",
   "metadata": {},
   "outputs": [],
   "source": [
    "class SMAStrategy(Strategy):\n",
    "    def __init__(self, data):\n",
    "        self.data = data\n",
    "    \n",
    "    def init(self):\n",
    "        windows=  np.arange(10, 100, 5)\n",
    "        indicator = vbt.IndicatorFactory.from_pandas_ta(\"SMA\")\n",
    "        self.fast_sma, self.slow_sma = indicator.run_combs(self.data, windows, short_names=['fast', 'slow'])\n",
    "        \n",
    "    def get_entries(self):\n",
    "        self.init()\n",
    "        return self.fast_sma.sma_crossed_above(self.slow_sma)\n",
    "    \n",
    "    def get_exits(self):\n",
    "        return self.fast_sma.sma_crossed_below(self.slow_sma)   "
   ]
  },
  {
   "cell_type": "markdown",
   "id": "3be7cbbe-0c41-4732-a7d5-470d4b790647",
   "metadata": {},
   "source": [
    "#### TODO TEST ON PARTITIONS OF DATA"
   ]
  },
  {
   "cell_type": "markdown",
   "id": "4873614d-8f4e-48c8-86dc-63b01954b3ab",
   "metadata": {},
   "source": [
    "## MACD"
   ]
  },
  {
   "cell_type": "code",
   "execution_count": 10,
   "id": "aab9ca5a-454e-41f7-b9aa-73002491c8fe",
   "metadata": {},
   "outputs": [],
   "source": [
    "class MACDStrategy(Strategy):\n",
    "    def __init__(self, data):\n",
    "        self.data = data\n",
    "        \n",
    "    def init(self):\n",
    "        fast_windows, slow_windows, signal_windows = vbt.utils.params.create_param_combs(\n",
    "            (product, (combinations, np.arange(2, 51, 1), 2), np.arange(2, 21, 1)))\n",
    "        \n",
    "        self.indicator = vbt.MACD.run(\n",
    "            self.data,\n",
    "            fast_window=fast_windows,\n",
    "            slow_window=slow_windows,\n",
    "            signal_window=signal_windows\n",
    "        )\n",
    "    \n",
    "    def get_entries(self):\n",
    "        self.init()\n",
    "        return self.indicator.macd_above(0) & self.indicator.macd_above(self.indicator.signal)\n",
    "    \n",
    "    def get_exits(self):\n",
    "        return self.indicator.macd_below(0) | self.indicator.macd_below(self.indicator.signal)   "
   ]
  },
  {
   "cell_type": "code",
   "execution_count": 11,
   "id": "94020762-f314-4f60-9388-69e6d82298a4",
   "metadata": {},
   "outputs": [],
   "source": [
    "## TODO Refactor the code\n",
    "def run_backtest(ticker:str):\n",
    "    print(f\"backtesting on {ticker}\")\n",
    "    data = pd.read_parquet(f\"{DATA_PATH/ticker}.parquet\").get(\"Close\")\n",
    "    strategy = MACDStrategy(data)\n",
    "    backtest = Backtest(ticker, strategy)\n",
    "    result = backtest.run()\n",
    "    return pd.DataFrame.from_dict(result, orient=\"index\")"
   ]
  },
  {
   "cell_type": "markdown",
   "id": "25399b07-43e7-4daf-b50b-410820f167e7",
   "metadata": {},
   "source": [
    "## BBANDS"
   ]
  },
  {
   "cell_type": "code",
   "execution_count": 12,
   "id": "f95d1548-f681-4b91-9b65-00b0518b9587",
   "metadata": {},
   "outputs": [],
   "source": [
    "class BBANDStrategy(Strategy):\n",
    "    def __init__(self, data):\n",
    "        self.data = data\n",
    "        \n",
    "    def init(self):\n",
    "        lengths, stds, mas = vbt.utils.params.create_param_combs((product, np.arange(10, 55, 5),  (product, [2, 3],[\"sma\", \"ema\"]) ) ) \n",
    "        self.indicator = vbt.IndicatorFactory.from_pandas_ta(\"BBANDS\").run(\n",
    "            self.data,\n",
    "            length=lengths,\n",
    "            std=stds,\n",
    "            mamode = mas\n",
    "        )\n",
    "        \n",
    "    \n",
    "    def get_entries(self):\n",
    "        self.init()\n",
    "        return self.indicator.close_below(self.indicator.bbl)\n",
    "        \n",
    "       \n",
    "    \n",
    "    def get_exits(self):\n",
    "        return self.indicator.close_above(self.indicator.bbu)"
   ]
  },
  {
   "cell_type": "code",
   "execution_count": 13,
   "id": "39d497e6-f457-474d-b016-3ad8a90a4200",
   "metadata": {},
   "outputs": [],
   "source": [
    "## ENTRY BUT EXIT AFTER 50, 100, 200 DAYS\n",
    "#adapted from the documentation\n",
    "\n",
    "@njit\n",
    "def wait_choice_nb(from_i, to_i, col, num_days, temp_idx_arr):\n",
    "    temp_idx_arr[0] = from_i + num_days - 1\n",
    "    if temp_idx_arr[0] < to_i:\n",
    "        return temp_idx_arr[:1]\n",
    "    return temp_idx_arr[:0]  \n",
    "            \n",
    "    \n",
    "# Build signal generator\n",
    "TimeBasedSignals = SignalFactory(\n",
    "    mode='chain',\n",
    "    param_names=['num_days']\n",
    ").from_choice_func(\n",
    "    exit_choice_func=wait_choice_nb,\n",
    "    exit_settings=dict(\n",
    "        pass_params=['num_days'],\n",
    "        pass_kwargs=['temp_idx_arr']\n",
    "    ) \n",
    ")"
   ]
  },
  {
   "cell_type": "code",
   "execution_count": 14,
   "id": "25d6c940-0b2c-4fef-92f3-d52b5f905a19",
   "metadata": {},
   "outputs": [],
   "source": [
    "def run_backtest(ticker:str, strategy_object:Strategy):\n",
    "    data = pd.read_parquet(f\"{DATA_PATH/ticker}.parquet\").get(\"Close\")\n",
    "    data = data.loc[START_DATE:END_DATE]\n",
    "    strategy = strategy_object(data)\n",
    "    backtest = Backtest_V2(ticker, strategy)\n",
    "    print(f\"backtesting on {ticker}\")\n",
    "    result = backtest.run()\n",
    "    time.sleep(5)\n",
    "    return pd.DataFrame.from_dict(result, orient=\"index\")"
   ]
  },
  {
   "cell_type": "markdown",
   "id": "ad71edc0-d4a6-4975-b2d6-5b89f2d918d6",
   "metadata": {},
   "source": [
    "## Test run"
   ]
  },
  {
   "cell_type": "code",
   "execution_count": 15,
   "id": "9f39345d-52d2-42bb-b546-c47fe878ab83",
   "metadata": {},
   "outputs": [],
   "source": [
    "# START_DATE_1  = pd.to_datetime(\"2010-01-01\")\n",
    "# END_DATE_1   = pd.to_datetime(\"2013-01-01\")\n",
    "\n",
    "# START_DATE_2 = pd.to_datetime(\"2013-01-01\")\n",
    "# END_DATE_2 = pd.to_datetime(\"2016-01-01\")\n",
    "\n",
    "# START_DATE_3 = pd.to_datetime(\"2016-01-01\")\n",
    "# END_DATE_3 = pd.to_datetime(\"2019-01-01\")\n",
    "\n",
    "# PARTITION_1 = titan_price.loc[START_DATE_1 : END_DATE_1]\n",
    "# PARTITION_2 = titan_price.loc[START_DATE_2 : END_DATE_2]\n",
    "# PARTITION_3 = titan_price.loc[START_DATE_3 : END_DATE_3]"
   ]
  },
  {
   "cell_type": "code",
   "execution_count": 16,
   "id": "0cda8a09-db29-4758-8d16-6b3a045acee8",
   "metadata": {},
   "outputs": [],
   "source": [
    "from functools import partial"
   ]
  },
  {
   "cell_type": "code",
   "execution_count": 17,
   "id": "8cac2705-a03f-4e32-b805-9c35ed4458db",
   "metadata": {},
   "outputs": [],
   "source": [
    "sma_strategy = SMAStrategy\n",
    "sma_backtest = partial(run_backtest, strategy_object = sma_strategy) "
   ]
  },
  {
   "cell_type": "code",
   "execution_count": 18,
   "id": "a5e00945-00dd-4d03-9801-1c5ee99c382d",
   "metadata": {},
   "outputs": [],
   "source": [
    "num_batches = 30//3"
   ]
  },
  {
   "cell_type": "code",
   "execution_count": 20,
   "id": "c346afa4-0cb5-45f2-8e10-11683fb9dacd",
   "metadata": {},
   "outputs": [],
   "source": [
    "# for batch in range(num_batches):\n",
    "#     with ProcessPoolExecutor() as executor:\n",
    "#         result = executor.map(sma_backtest, tickers[3 * batch: 3 * (batch + 1) ])\n",
    "#     time.sleep(10)\n",
    "#     output = pd.concat(list(result))\n",
    "#     output.to_csv(f\"SMA_FULL_{batch}\")"
   ]
  },
  {
   "cell_type": "code",
   "execution_count": null,
   "id": "1345185e-5e61-49b0-bd89-1327c265a3a9",
   "metadata": {},
   "outputs": [
    {
     "name": "stdout",
     "output_type": "stream",
     "text": [
      "backtesting on NTPC.NS\n",
      "backtesting on HINDALCO.NS\n",
      "backtesting on BHARTIARTL.NS\n",
      "saving for batch 0\n",
      "backtesting on SHREECEM.NS\n",
      "backtesting on TCS.NS\n",
      "backtesting on HDFCLIFE.NS\n",
      "saving for batch 1\n",
      "backtesting on CIPLA.NS\n",
      "backtesting on LT.NS\n"
     ]
    }
   ],
   "source": [
    "for batch in range(num_batches):\n",
    "    results = []\n",
    "    for ticker in tickers[3 * batch : 3 * (batch + 1)]:\n",
    "        results.append(sma_backtest(ticker))\n",
    "    results = pd.concat(results)\n",
    "    print(f\"saving for batch {batch}\")\n",
    "    results.to_csv(f\"SMA_{batch}.csv\")\n",
    "    time.sleep(5)       "
   ]
  },
  {
   "cell_type": "code",
   "execution_count": null,
   "id": "0db149cf-f6de-4821-a717-65a65915b364",
   "metadata": {},
   "outputs": [],
   "source": []
  }
 ],
 "metadata": {
  "kernelspec": {
   "display_name": "Python 3 (ipykernel)",
   "language": "python",
   "name": "python3"
  },
  "language_info": {
   "codemirror_mode": {
    "name": "ipython",
    "version": 3
   },
   "file_extension": ".py",
   "mimetype": "text/x-python",
   "name": "python",
   "nbconvert_exporter": "python",
   "pygments_lexer": "ipython3",
   "version": "3.8.13"
  }
 },
 "nbformat": 4,
 "nbformat_minor": 5
}
