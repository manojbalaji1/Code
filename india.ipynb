{
 "cells": [
  {
   "cell_type": "code",
   "execution_count": 2,
   "id": "7ce0d1cf-dda7-4c37-ac56-30a90c2cb282",
   "metadata": {},
   "outputs": [],
   "source": [
    "import vectorbt as vbt\n",
    "import numpy as np\n",
    "import pandas as pd\n",
    "import time\n",
    "from helpers import permute_data, random_like"
   ]
  },
  {
   "cell_type": "code",
   "execution_count": 3,
   "id": "edd6afd6-a9c4-4402-9c35-24ecab639bc9",
   "metadata": {},
   "outputs": [],
   "source": [
    "from helpers import download_data\n",
    "from pathlib import Path"
   ]
  },
  {
   "cell_type": "code",
   "execution_count": 4,
   "id": "aded665f-fdca-4246-99c8-e9ee43c210ca",
   "metadata": {},
   "outputs": [],
   "source": [
    "from itertools import product, combinations, permutations "
   ]
  },
  {
   "cell_type": "code",
   "execution_count": 5,
   "id": "3b8627b0-70b4-43db-876e-6e82ef2ff24b",
   "metadata": {},
   "outputs": [],
   "source": [
    "stock_tickers = pd.read_csv(\"EQUITY_L.csv\").get(\"SYMBOL\").values.flatten()"
   ]
  },
  {
   "cell_type": "code",
   "execution_count": 6,
   "id": "524a6aee-72ea-4c5d-864d-c9e50e04df50",
   "metadata": {},
   "outputs": [],
   "source": [
    "tickers = [\n",
    "    \"NTPC.NS\",\"HINDALCO.NS\",\"BHARTIARTL.NS\",\n",
    "    \"SHREECEM.NS\",\"TCS.NS\",\"HDFCLIFE.NS\",\n",
    "    \"CIPLA.NS\",\"LT.NS\",\"ULTRACEMCO.NS\",\n",
    "    \"WIPRO.NS\",\"KOTAKBANK.NS\",\"BAJFINANCE.NS\",\n",
    "    \"TATACONSUM.NS\",\"BAJAJFINSV.NS\",\"MARUTI.NS\",\n",
    "    \"TITAN.NS\",\"ICICIBANK.NS\",\"ONGC.NS\",\"ITC.NS\",\n",
    "    \"APOLLOHOSP.NS\",\"BRITANNIA.NS\",\"BAJAJ-AUTO.NS\",\n",
    "    \"TECHM.NS\",\"COALINDIA.NS\",\"TATASTEEL.NS\",\"HEROMOTOCO.NS\",\n",
    "    \"INDUSINDBK.NS\",\"NESTLEIND.NS\",\"M&M.NS\",\"RELIANCE.NS\"\n",
    "]"
   ]
  },
  {
   "cell_type": "code",
   "execution_count": 7,
   "id": "4634ac76-3fc7-4406-b712-508a611ef7f9",
   "metadata": {},
   "outputs": [],
   "source": [
    "START_DATE = pd.to_datetime(\"2009-10-01\")\n",
    "END_DATE = pd.to_datetime(\"2020-01-31\")"
   ]
  },
  {
   "cell_type": "code",
   "execution_count": 8,
   "id": "dd19dc7e-791a-4e46-8891-02c6dcbf9236",
   "metadata": {},
   "outputs": [],
   "source": [
    "DATA_PATH = Path(\"./indian_stocks/\").resolve()\n",
    "titan_price = pd.read_parquet(f\"{DATA_PATH}/TITAN.NS.parquet\").get(\"Close\").loc[START_DATE:END_DATE]"
   ]
  },
  {
   "cell_type": "markdown",
   "id": "536e8970-18dc-4252-9e53-f6f8ddd90f6d",
   "metadata": {},
   "source": [
    "## PARTITION OURSELVES"
   ]
  },
  {
   "cell_type": "code",
   "execution_count": 9,
   "id": "dff9a57d-a6ab-4f5e-8ae4-09012c93d876",
   "metadata": {},
   "outputs": [],
   "source": [
    "START_DATE_1  = pd.to_datetime(\"2010-01-01\")\n",
    "END_DATE_1   = pd.to_datetime(\"2013-01-01\")\n",
    "\n",
    "START_DATE_2 = pd.to_datetime(\"2013-01-01\")\n",
    "END_DATE_2 = pd.to_datetime(\"2016-01-01\")\n",
    "\n",
    "START_DATE_3 = pd.to_datetime(\"2016-01-01\")\n",
    "END_DATE_3 = pd.to_datetime(\"2019-01-01\")\n",
    "\n",
    "PARTITION_1 = titan_price.loc[START_DATE_1 : END_DATE_1]\n",
    "PARTITION_2 = titan_price.loc[START_DATE_2 : END_DATE_2]\n",
    "PARTITION_3 = titan_price.loc[START_DATE_3 : END_DATE_3]"
   ]
  },
  {
   "cell_type": "markdown",
   "id": "018b849b-4d8b-441d-a200-d931aac9c6e5",
   "metadata": {},
   "source": [
    "## PARTITION WITH VBT"
   ]
  },
  {
   "cell_type": "code",
   "execution_count": 10,
   "id": "05ede896-0fa4-4a2a-b938-3e4d98f0e1dd",
   "metadata": {},
   "outputs": [],
   "source": [
    "PARTITION_VBT, _ = titan_price.vbt.range_split(n=3)"
   ]
  },
  {
   "cell_type": "markdown",
   "id": "48563fd9-65ef-4471-a900-73ed0451765b",
   "metadata": {},
   "source": []
  },
  {
   "cell_type": "code",
   "execution_count": 76,
   "id": "552ad270-b5fc-4402-9b4d-96fe4a11c6cb",
   "metadata": {},
   "outputs": [],
   "source": [
    "BBANDS = vbt.IndicatorFactory.from_pandas_ta(\"BBANDS\")\n",
    "lengths, stds, mas = vbt.utils.params.create_param_combs( (product, np.arange(10, 55, 5),  (product, [2, 3],[\"sma\", \"ema\"]) ) ) \n",
    "bbands = BBANDS.run(PARTITION_1, length=lengths, std=stds, mamode = mas)"
   ]
  },
  {
   "cell_type": "code",
   "execution_count": null,
   "id": "6e95f6af-547b-4469-8829-e2f253b25a19",
   "metadata": {},
   "outputs": [],
   "source": []
  },
  {
   "cell_type": "code",
   "execution_count": 81,
   "id": "878ce0bd-cc4a-47fd-9493-ca19a6d71fe3",
   "metadata": {},
   "outputs": [],
   "source": [
    "entries = bbands.close_below(bbands.bbl)\n",
    "exits = bbands.close_above(bbands.bbu)"
   ]
  },
  {
   "cell_type": "code",
   "execution_count": 82,
   "id": "ea577b02-f7ab-417d-8ce1-eb63caa31351",
   "metadata": {},
   "outputs": [],
   "source": [
    "pf = vbt.Portfolio.from_signals(PARTITION_1, entries, exits, fees=0.001, freq='1D')"
   ]
  },
  {
   "cell_type": "code",
   "execution_count": 84,
   "id": "e082635c-d406-461a-bd67-77e79b48f018",
   "metadata": {},
   "outputs": [
    {
     "data": {
      "text/plain": [
       "25.637995937037743"
      ]
     },
     "execution_count": 84,
     "metadata": {},
     "output_type": "execute_result"
    }
   ],
   "source": [
    "pf.trades.expectancy().mean()"
   ]
  },
  {
   "cell_type": "code",
   "execution_count": 93,
   "id": "eb2458a9-f584-4f7d-afab-b800949304ce",
   "metadata": {},
   "outputs": [],
   "source": [
    "from strategies.strategy import Strategy\n",
    "\n",
    "class BBANDStrategy(Strategy):\n",
    "    def __init__(self, data):\n",
    "        self.data = data\n",
    "        \n",
    "    def init(self):\n",
    "        lengths, stds, mas = vbt.utils.params.create_param_combs((product, np.arange(10, 55, 5),  (product, [2, 3],[\"sma\", \"ema\"]) ) ) \n",
    "        self.indicator = vbt.IndicatorFactory.from_pandas_ta(\"BBANDS\").run(\n",
    "            self.data,\n",
    "            length=lengths,\n",
    "            std=stds,\n",
    "            mamode = mas\n",
    "        )\n",
    "        \n",
    "    \n",
    "    def get_entries(self):\n",
    "        self.init()\n",
    "        return self.indicator.close_below(bbands.bbl)\n",
    "        \n",
    "       \n",
    "    \n",
    "    def get_exits(self):\n",
    "        return self.indicator.close_above(bbands.bbu)\n",
    "          "
   ]
  },
  {
   "cell_type": "code",
   "execution_count": 15,
   "id": "dbebea19-4bbc-470a-8e5f-9091d8f7e7ad",
   "metadata": {},
   "outputs": [],
   "source": [
    "class Backtest:\n",
    "    def __init__(self, ticker:str, strategy:Strategy, fees:float = 0.001, size:float = np.inf, freq:str = \"1D\"):\n",
    "        self.ticker=ticker\n",
    "        self.strategy = strategy\n",
    "        self.fees = fees\n",
    "        self.size = size\n",
    "        self.freq=freq\n",
    "    \n",
    "    def __repr__(self):\n",
    "        return f\"<Bactest {str(self.strategy)}>\"\n",
    "    \n",
    "    def _get_portfolio(self, entries, exits):\n",
    "        return vbt.Portfolio.from_signals(close=self.strategy.data,\n",
    "                                          entries=entries, \n",
    "                                          exits=exits, \n",
    "                                          fees=self.fees,size = self.size, \n",
    "                                          freq=self.freq)\n",
    "    \n",
    "    def run(self, **kwargs):\n",
    "        entries = self.strategy.get_entries()\n",
    "        exits = self.strategy.get_exits()\n",
    "        \n",
    "        random_entries = entries.apply(random_like)\n",
    "        permuted_entries = entries.apply(permute_data)\n",
    "        \n",
    "        portfolio = self._get_portfolio(entries, exits, **kwargs)\n",
    "        random_porfolio = self._get_portfolio(random_entries, exits, **kwargs)\n",
    "        permuted_portfolio = self._get_portfolio(permuted_entries, exits,**kwargs)\n",
    "        \n",
    "        output = {\n",
    "            self.ticker : dict(\n",
    "                mean_expectancy = portfolio.trades.expectancy().mean(),\n",
    "                max_expectancy = portfolio.trades.expectancy().max(),\n",
    "                mean_random_expectancy= random_porfolio.trades.expectancy().mean(),\n",
    "                mean_permuted_expectancy = permuted_portfolio.trades.expectancy().mean()\n",
    "            )\n",
    "        }\n",
    "        return output      "
   ]
  },
  {
   "cell_type": "code",
   "execution_count": 94,
   "id": "d57a127f-3b12-4085-bb78-1b659d9bd1c5",
   "metadata": {},
   "outputs": [],
   "source": [
    "bbands_strategy = BBANDStrategy(PARTITION_1)"
   ]
  },
  {
   "cell_type": "code",
   "execution_count": 95,
   "id": "60305967-1784-4f09-adaf-7646e6b00d83",
   "metadata": {},
   "outputs": [],
   "source": [
    "backtest = Backtest(\"TITAN\", bbands_strategy)"
   ]
  },
  {
   "cell_type": "code",
   "execution_count": 96,
   "id": "1dd5a412-6064-4fdf-bddc-057433de3329",
   "metadata": {},
   "outputs": [],
   "source": [
    "output = backtest.run()"
   ]
  },
  {
   "cell_type": "code",
   "execution_count": 97,
   "id": "c41a6aae-34ef-40dd-9640-fdd85ca50582",
   "metadata": {},
   "outputs": [
    {
     "data": {
      "text/plain": [
       "{'TITAN': {'mean_expectancy': 25.637995937037743,\n",
       "  'max_expectancy': 88.14064506836974,\n",
       "  'mean_random_expectancy': 61.746773511948476,\n",
       "  'mean_permuted_expectancy': 8.420564046475429}}"
      ]
     },
     "execution_count": 97,
     "metadata": {},
     "output_type": "execute_result"
    }
   ],
   "source": [
    "output"
   ]
  },
  {
   "cell_type": "code",
   "execution_count": null,
   "id": "20454771-ccc5-4753-8340-9a88a9442a07",
   "metadata": {},
   "outputs": [],
   "source": []
  },
  {
   "cell_type": "code",
   "execution_count": 31,
   "id": "c9a31501-bac5-4005-a42c-b77ebb31a126",
   "metadata": {},
   "outputs": [],
   "source": [
    "fast_windows, slow_windows, signal_windows = vbt.utils.params.create_param_combs(\n",
    "    (product, (combinations, np.arange(2, 51, 1), 2), np.arange(2, 21, 1)))\n",
    "\n",
    "# Run MACD indicator\n",
    "macd_ind = vbt.MACD.run(\n",
    "    close= PARTITION_1,\n",
    "    fast_window=fast_windows,\n",
    "    slow_window=slow_windows,\n",
    "    signal_window=signal_windows\n",
    ")\n",
    "\n",
    "# Long when MACD is above zero AND signal\n",
    "entries = macd_ind.macd_above(0) & macd_ind.macd_above(macd_ind.signal)\n",
    "\n",
    "# Short when MACD is below zero OR signal\n",
    "exits = macd_ind.macd_below(0) | macd_ind.macd_below(macd_ind.signal)\n",
    "\n",
    "# Build portfolio\n",
    "pf = vbt.Portfolio.from_signals(\n",
    "    PARTITION_1.vbt.tile(len(fast_windows)), entries, exits, fees=0.001, freq='1D')"
   ]
  },
  {
   "cell_type": "code",
   "execution_count": 32,
   "id": "ee4e3cc1-9a97-46bb-a261-3edcbb59ca79",
   "metadata": {},
   "outputs": [
    {
     "data": {
      "text/plain": [
       "2.015990013207552"
      ]
     },
     "execution_count": 32,
     "metadata": {},
     "output_type": "execute_result"
    }
   ],
   "source": [
    "pf.trades.expectancy().mean()"
   ]
  },
  {
   "cell_type": "code",
   "execution_count": null,
   "id": "9f9cc0dc-24f4-4163-bce0-9ad27b3ca687",
   "metadata": {},
   "outputs": [],
   "source": []
  }
 ],
 "metadata": {
  "kernelspec": {
   "display_name": "Python 3 (ipykernel)",
   "language": "python",
   "name": "python3"
  },
  "language_info": {
   "codemirror_mode": {
    "name": "ipython",
    "version": 3
   },
   "file_extension": ".py",
   "mimetype": "text/x-python",
   "name": "python",
   "nbconvert_exporter": "python",
   "pygments_lexer": "ipython3",
   "version": "3.8.13"
  }
 },
 "nbformat": 4,
 "nbformat_minor": 5
}
