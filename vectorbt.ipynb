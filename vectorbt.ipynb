{
 "cells": [
  {
   "cell_type": "code",
   "execution_count": 1,
   "id": "a67b6ec9-4038-4fa4-bf93-23388707d1c3",
   "metadata": {},
   "outputs": [],
   "source": [
    "import vectorbt as vbt\n",
    "import numpy as np\n",
    "import pandas as pd\n",
    "import time\n",
    "from helpers import permute_data, random_like"
   ]
  },
  {
   "cell_type": "code",
   "execution_count": 2,
   "id": "ac933b42-3c87-4ded-8824-773346a0603e",
   "metadata": {},
   "outputs": [],
   "source": [
    "from pathlib import Path\n",
    "from concurrent.futures import ProcessPoolExecutor"
   ]
  },
  {
   "cell_type": "code",
   "execution_count": 3,
   "id": "8825d417-fb51-44dc-9a59-4a930d949276",
   "metadata": {},
   "outputs": [],
   "source": [
    "DATA_PATH = Path(\"./data\").resolve()"
   ]
  },
  {
   "cell_type": "code",
   "execution_count": 4,
   "id": "2eeaf5dc-588b-4c84-a3bf-7ecb813c559c",
   "metadata": {},
   "outputs": [],
   "source": [
    "appl_price =  pd.read_parquet(f\"{DATA_PATH}/AAPL.parquet\").get(\"Close\")"
   ]
  },
  {
   "cell_type": "code",
   "execution_count": 16,
   "id": "73249356-210d-4a8b-9507-6fba5d455bbd",
   "metadata": {},
   "outputs": [],
   "source": [
    "## regards to period, we can either split using vectorbt or just do the splitting ourselfs\n",
    "## i.e data = data.loc[(data.index >= START_DATE) & (data.index < END_DATE)]\n",
    "START_DATE = \"<start here>\"\n",
    "END_DATE = \"<end here>\""
   ]
  },
  {
   "cell_type": "code",
   "execution_count": 5,
   "id": "2404ec93-c451-441f-9490-5d741baf76d2",
   "metadata": {},
   "outputs": [],
   "source": [
    "appl_price_truncated =  appl_price.iloc[:365]"
   ]
  },
  {
   "cell_type": "code",
   "execution_count": 7,
   "id": "89994de2-0e3b-4195-8ead-b8f99388973a",
   "metadata": {},
   "outputs": [],
   "source": [
    "windows = np.arange(5, 101, 5)"
   ]
  },
  {
   "cell_type": "markdown",
   "id": "b210479e-66a5-4d6d-a0b9-7c84edb748fb",
   "metadata": {},
   "source": [
    "## Either the built-in, using pandas_ta or creating a custom one"
   ]
  },
  {
   "cell_type": "code",
   "execution_count": 10,
   "id": "d01607f9-144c-4b91-a294-3e39d31d6650",
   "metadata": {},
   "outputs": [],
   "source": [
    "#builtin\n",
    "fast_ma, slow_ma = vbt.MA.run_combs(appl_price_truncated, window=windows, r=2, short_names=['fast', 'slow'])"
   ]
  },
  {
   "cell_type": "code",
   "execution_count": 13,
   "id": "b9c1409c-5348-40ad-9958-efb3029022fe",
   "metadata": {},
   "outputs": [],
   "source": [
    "#using indicator factory, these are more consistent for run_combs\n",
    "x, y = vbt.pandas_ta(\"SMA\").run_combs(appl_price_truncated, windows,short_names=['fast', 'slow']) \n",
    "\n",
    "SMA = vbt.IndicatorFactory.from_pandas_ta(\"SMA\")\n",
    "fast_sma, slow_sma = SMA.run_combs(appl_price_truncated, windows, short_names=['fast', 'slow'])\n",
    "\n",
    "SMAInd = vbt.IndicatorFactory(input_names=['price'], param_names=['window'],\n",
    "                              output_names=['ma']).from_apply_func(vbt.nb.rolling_mean_nb)\n",
    "SMA_fast, SMA_slow = SMAInd.run_combs(appl_price_truncated, windows, short_names=['fast', 'slow'])"
   ]
  },
  {
   "cell_type": "code",
   "execution_count": 28,
   "id": "e0905faf-cc5c-4318-816f-a5e257327016",
   "metadata": {},
   "outputs": [],
   "source": [
    "entries = fast_ma.ma_crossed_above(slow_ma)\n",
    "exits = fast_ma.ma_crossed_below(slow_ma)\n",
    "\n",
    "random_entries = entries.apply(random_like)\n",
    "permuted_entries = entries.apply(permute_data)"
   ]
  },
  {
   "cell_type": "code",
   "execution_count": 29,
   "id": "6d225356-d7cc-4752-84b6-e1aeaf11b28c",
   "metadata": {},
   "outputs": [],
   "source": [
    "pf_kwargs = dict(size=np.inf, fees=0.001, freq='1D')"
   ]
  },
  {
   "cell_type": "code",
   "execution_count": 30,
   "id": "6b526125-8090-4fb3-9fe9-d7d945642ed9",
   "metadata": {},
   "outputs": [],
   "source": [
    "pf = vbt.Portfolio.from_signals(appl_price_truncated, entries, exits, **pf_kwargs)\n",
    "random_pf = vbt.Portfolio.from_signals(appl_price_truncated, random_entries, exits, **pf_kwargs)\n",
    "permuted_pf = vbt.Portfolio.from_signals(appl_price_truncated, permuted_entries, exits, **pf_kwargs)"
   ]
  },
  {
   "cell_type": "code",
   "execution_count": 31,
   "id": "fd2d6f35-b0da-49ba-9334-8c3dd78e179a",
   "metadata": {},
   "outputs": [],
   "source": [
    "expectancy  = pf.trades.expectancy()\n",
    "random_expectancy  = random_pf.trades.expectancy()\n",
    "permute_expectancy = permuted_pf.trades.expectancy()"
   ]
  },
  {
   "cell_type": "code",
   "execution_count": 32,
   "id": "1623b10c-4169-430d-876f-50196390e3b6",
   "metadata": {},
   "outputs": [],
   "source": [
    "mean_expectancy = expectancy.mean()\n",
    "mean_random_expectancy = random_expectancy.mean()\n",
    "mean_permuted_expectancy = permute_expectancy.mean()"
   ]
  },
  {
   "cell_type": "code",
   "execution_count": 33,
   "id": "67936bc4-1fc4-4bac-b8d9-bbba437af1ce",
   "metadata": {},
   "outputs": [
    {
     "data": {
      "text/plain": [
       "(-10.34032745916665, -9.621661090819039, -21.94558006648226)"
      ]
     },
     "execution_count": 33,
     "metadata": {},
     "output_type": "execute_result"
    }
   ],
   "source": [
    "mean_expectancy, mean_permuted_expectancy, mean_random_expectancy"
   ]
  },
  {
   "cell_type": "markdown",
   "id": "9256fa2e-6394-4467-bd83-0ab22927fa6a",
   "metadata": {},
   "source": [
    "## now we implement it so we can use multiprocessing"
   ]
  },
  {
   "cell_type": "code",
   "execution_count": 114,
   "id": "eb3fa71d-b4a4-4f9e-ae62-6dd72e0de9fc",
   "metadata": {},
   "outputs": [],
   "source": [
    "from abc import abstractmethod, ABCMeta\n",
    "\n",
    "class Strategy(metaclass=ABCMeta):\n",
    "    @abstractmethod\n",
    "    def get_entries(self):\n",
    "        \"\"\"\n",
    "        returns entries signals\n",
    "        \"\"\"\n",
    "        pass   \n",
    "    \n",
    "    @abstractmethod\n",
    "    def get_exits(self):\n",
    "        \"\"\"\n",
    "        returns exit signals\n",
    "        \"\"\"\n",
    "        pass "
   ]
  },
  {
   "cell_type": "code",
   "execution_count": 200,
   "id": "dd767598-5a44-4da7-b92e-55850a7eb79b",
   "metadata": {},
   "outputs": [],
   "source": [
    "class Backtest:\n",
    "    def __init__(self, ticker:str, strategy:Strategy, fees:float = 0.001, size:float = np.inf, freq:str = \"1D\"):\n",
    "        self.ticker=ticker\n",
    "        self.strategy = strategy\n",
    "        self.fees = fees\n",
    "        self.size = size\n",
    "        self.freq=freq\n",
    "    \n",
    "    def __repr__(self):\n",
    "        return f\"<Bactest {str(self.strategy)}>\"\n",
    "    \n",
    "    def _get_portfolio(self, entries, exits):\n",
    "        return vbt.Portfolio.from_signals(close=self.strategy.data,\n",
    "                                          entries=entries, \n",
    "                                          exits=exits, \n",
    "                                          fees=self.fees,size = self.size, \n",
    "                                          freq=self.freq)\n",
    "    \n",
    "    def run(self, **kwargs):\n",
    "        entries = self.strategy.get_entries()\n",
    "        exits = self.strategy.get_exits()\n",
    "        \n",
    "        random_entries = entries.apply(random_like)\n",
    "        permuted_entries = entries.apply(permute_data)\n",
    "        \n",
    "        portfolio = self._get_portfolio(entries, exits, **kwargs)\n",
    "        random_porfolio = self._get_portfolio(random_entries, exits, **kwargs)\n",
    "        permuted_portfolio = self._get_portfolio(permuted_entries, exits,**kwargs)\n",
    "        \n",
    "        output = {\n",
    "            self.ticker : dict(\n",
    "                mean_expectancy = portfolio.trades.expectancy().mean(),\n",
    "                max_expectancy = portfolio.trades.expectancy().max(),\n",
    "                mean_random_expectancy= random_porfolio.trades.expectancy().mean(),\n",
    "                mean_permuted_expectancy = permuted_portfolio.trades.expectancy().mean()\n",
    "            )\n",
    "        }\n",
    "        return output      "
   ]
  },
  {
   "cell_type": "code",
   "execution_count": 155,
   "id": "35f2f26f-adfe-4d5d-b962-6a95dfeda71e",
   "metadata": {},
   "outputs": [],
   "source": [
    "class SMAStrategy(Strategy):\n",
    "    def __init__(self, data):\n",
    "        self.data = data\n",
    "        self.windows=  np.arange(10, 100, 5)\n",
    "        self.indicator = vbt.IndicatorFactory.from_pandas_ta(\"SMA\")\n",
    "        self.fast_sma, self.slow_sma = self.indicator.run_combs(self.data, self.windows, short_names=['fast', 'slow'])\n",
    "    \n",
    "    def get_entries(self):\n",
    "        return self.fast_sma.sma_crossed_above(self.slow_sma)\n",
    "    \n",
    "    def get_exits(self):\n",
    "        return self.fast_sma.sma_crossed_below(self.slow_sma)   "
   ]
  },
  {
   "cell_type": "code",
   "execution_count": 209,
   "id": "bebb38ec-42bb-416b-b563-fd0aed69c7cc",
   "metadata": {},
   "outputs": [],
   "source": [
    "from concurrent.futures import ProcessPoolExecutor\n",
    "DATA_PATH = Path(\"./data\").resolve() \n",
    "\n",
    "def run_backtest(ticker:str):\n",
    "    print(f\"backtesting on {ticker} \\n\")\n",
    "    data = pd.read_parquet(f\"{DATA_PATH/ticker}.parquet\").get(\"Close\")\n",
    "    strategy = SMAStrategy(data)\n",
    "    backtest = Backtest(ticker, strategy)\n",
    "    result = backtest.run()\n",
    "    return pd.DataFrame.from_dict(result, orient=\"index\")   "
   ]
  },
  {
   "cell_type": "code",
   "execution_count": 211,
   "id": "9bca5d79-28ab-41b1-9bf8-c41d54bd19fa",
   "metadata": {},
   "outputs": [
    {
     "name": "stdout",
     "output_type": "stream",
     "text": [
      "backtesting on AAPL \n",
      "backtesting on AAL \n",
      "backtesting on AAP \n",
      "backtesting on AA \n",
      "\n",
      "\n",
      "\n",
      "\n",
      "backtesting on AAU \n",
      "\n"
     ]
    }
   ],
   "source": [
    "with ProcessPoolExecutor() as executor:\n",
    "    result = executor.map(run_backtest, tickers)\n",
    "    \n",
    "output = pd.concat(list(result))"
   ]
  },
  {
   "cell_type": "code",
   "execution_count": 214,
   "id": "827b8976-7a0d-44f4-a62c-17e4d9b87845",
   "metadata": {},
   "outputs": [],
   "source": [
    "output.to_csv(\"test_sma.csv\")"
   ]
  },
  {
   "cell_type": "code",
   "execution_count": 216,
   "id": "9a76ceec-26e0-41d4-96a4-fae0f5db1538",
   "metadata": {},
   "outputs": [
    {
     "data": {
      "text/plain": [
       "PosixPath('/mnt/c/Users/Calculus/Desktop/Library/Courses/MscFE/10. Capstone/Code/data')"
      ]
     },
     "execution_count": 216,
     "metadata": {},
     "output_type": "execute_result"
    }
   ],
   "source": []
  },
  {
   "cell_type": "code",
   "execution_count": 221,
   "id": "ac0c1775-0abb-433d-845d-a2396933b661",
   "metadata": {},
   "outputs": [],
   "source": [
    "tickers = [file for file in DATA_PATH.iterdir()]"
   ]
  },
  {
   "cell_type": "code",
   "execution_count": 223,
   "id": "946f9200-d1d1-408d-8cb4-52d19cf24699",
   "metadata": {},
   "outputs": [],
   "source": [
    "def delete_empty_file(file):\n",
    "    if (len(pd.read_parquet(file)) == 0):\n",
    "        print(f\"deleting {file}\")\n",
    "        file.unlink()"
   ]
  },
  {
   "cell_type": "code",
   "execution_count": null,
   "id": "2fcc9a70-999b-4f26-8734-63d4ec1e2c3f",
   "metadata": {},
   "outputs": [],
   "source": [
    "DATA_PATH"
   ]
  },
  {
   "cell_type": "code",
   "execution_count": null,
   "id": "4488a9ac-9599-48e5-a548-180fc680666b",
   "metadata": {},
   "outputs": [],
   "source": [
    "with ProcessPoolExecutor() as executor:\n",
    "    executor.map(delete_empty_file, tickers)"
   ]
  },
  {
   "cell_type": "code",
   "execution_count": null,
   "id": "8627046b-9c9b-412b-b7db-18df23a07151",
   "metadata": {},
   "outputs": [],
   "source": []
  }
 ],
 "metadata": {
  "kernelspec": {
   "display_name": "Python 3 (ipykernel)",
   "language": "python",
   "name": "python3"
  },
  "language_info": {
   "codemirror_mode": {
    "name": "ipython",
    "version": 3
   },
   "file_extension": ".py",
   "mimetype": "text/x-python",
   "name": "python",
   "nbconvert_exporter": "python",
   "pygments_lexer": "ipython3",
   "version": "3.8.13"
  }
 },
 "nbformat": 4,
 "nbformat_minor": 5
}
